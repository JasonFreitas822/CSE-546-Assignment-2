{
 "cells": [
  {
   "cell_type": "markdown",
   "id": "9c0d943c",
   "metadata": {},
   "source": [
    "## <center>CSE 546: Reinforcement Learning</center>\n",
    "### <center>Prof. Alina Vereshchaka</center>\n",
    "<!-- ### <center>Fall 2022</center> -->\n",
    "\n",
    "Welcome to the Assignment 2, Part 1: Introduction to Deep Reinforcement Learning and Neural Networks! The goal of this assignment is to make you comfortable with the application of different Neural Network structures depending on how the Reinforcement Learning environment is set up."
   ]
  },
  {
   "cell_type": "code",
   "execution_count": 3,
   "id": "c0fc19e1",
   "metadata": {},
   "outputs": [],
   "source": [
    "# Imports\n",
    "import gymnasium as gym\n",
    "from gymnasium import spaces\n",
    "import matplotlib.pyplot as plt\n",
    "from matplotlib.offsetbox import OffsetImage, AnnotationBbox\n",
    "import numpy as np\n",
    "from time import time\n",
    "from PIL import Image\n",
    "import os\n",
    "import torch\n",
    "import torch.nn as nn\n",
    "import torch.nn.functional as F\n",
    "import torch.optim as optim\n",
    "from torch.distributions import Categorical\n",
    "\n",
    "os.environ[\"KMP_DUPLICATE_LIB_OK\"] = \"TRUE\"\n",
    "from environment import WumpusWorldEnvironment"
   ]
  },
  {
   "cell_type": "markdown",
   "id": "87890afd",
   "metadata": {},
   "source": [
    "# Environment"
   ]
  },
  {
   "cell_type": "markdown",
   "id": "b9dc8362",
   "metadata": {},
   "source": [
    "We will be working with an implementation of the Wumpus World environment. The environment comes from the book \"Artificial Intelligence: A Modern Approach\" by Stuart J. Russell and Peter Norvig. \n",
    "\n",
    "### ENVIRONMENT DETAILS:\n",
    "\n",
    "The environment is a 6 x 6 grid world containing a total of 36 grid blocks. \n",
    "\n",
    "#### ENVIRONMENT OBJECTS:\n",
    "The environment consists of the following objects:\n",
    "\n",
    "1. **Agent** - The agent starts in the grid block at the bottom left corner whose co-ordinates are [0, 0]. The goal of our agent is to collect the Gold while avoiding the Wumpus and the pits. \n",
    "\n",
    "2. **Wumpus** - The monster which would eat the agent if they are in the same grid block.\n",
    "\n",
    "3. **Pit** - The agent must avoid falling into the pits. \n",
    "\n",
    "4. **Gold** - The agent must collect the Gold.\n",
    "\n",
    "5. **Breeze** - Breeze surrounds the Pits and warn the agent of a Pit in an adjacent grid block.\n",
    "\n",
    "6. **Stench** - Stench surrounds the Wumpus and warns the agent of the Wumpus in an adjacent grid block.\n",
    "\n",
    "#### ENVIRONMENT OBSERVATIONS:\n",
    "\n",
    "Our implementation of the environment provides you with four different types of observations:\n",
    "\n",
    "1. **Integer** - Integer in the range [0 - 35]. This represents the grid block the agent is in. E.g., if the agent is in the bottom left grid block (starting position) the observation would be 0, if the agent is in the grid block containing the Gold the observation would be 34, if the agent is in the top right grid block the observation would be 35.\n",
    "\n",
    "2. **Vector** - \n",
    "\n",
    "    **2.1.** A vector of length 2 representing the agent co-ordinates. The first entry represents the x co-ordinate and the second entry represets the y co-ordinate. E.g., if the agent is in the bottom left grid block (starting position) the observation would be [0, 0], if the agent is in the grid block containing the Gold the observation would be [4, 5], if the agent is in the top right grid block the observation would be [5, 5].\n",
    "    \n",
    "    **2.2.** A vector of length 36 representing the one-hot encoding of the integer observation (refer type 1 above). E.g., if the agent is in the bottom left grid block (starting position) the observation would be [1, 0, ..., 0, 0], if the agent is in the grid block containing the Gold the observation would be [0, 0, ..., 1, 0], if the agent is in the top right grid block the observation would be [0, 0, ..., 0, 1].\n",
    "\n",
    "\n",
    "3. **Image** - Image render of the environment returned as an NumPy array. The image size is 84 * 84 (same size used in the DQN paper). E.g., if the agent is in the bottom right grid block the observation is:\n",
    "\n",
    "    Observation: (84 * 84)\n",
    "\n",
    "     [[255 255 255 ... 255 255 255]\n",
    "\n",
    "     [255 255 255 ... 255 255 255]\n",
    "\n",
    "     [255 255 255 ... 255 255 255]\n",
    "\n",
    "     ...\n",
    "\n",
    "     [255 255 255 ... 255 255 255]\n",
    "\n",
    "     [255 255 255 ... 255 255 255]\n",
    "\n",
    "     [255 255 255 ... 255 255 255]]\n",
    "\n",
    "    Observation type: <class 'numpy.ndarray'>\n",
    "\n",
    "    Observation Shape: (84, 84)\n",
    "\n",
    "    Visually, it looks like:\n",
    "    <img src=\"./images/environment_render.png\" width=\"500\" height=\"500\">\n",
    "    \n",
    "\n",
    "4. **Float** - Float in the range [0 - $\\infty$] representing the time elapsed in seconds. \n",
    "\n",
    "#### ENVIRONMENT ACTIONS:\n",
    "\n",
    "Our implementation of the environment provides you with three different types of actions:\n",
    "\n",
    "1. **Discrete** - Integer in the range [0 - 3] representing the four actions possible in the environment as follows: 0 - Right 1 - Left 2 - Up 3 - Down.\n",
    "\n",
    "2. **Multi-Discrete** - Array of length four where each element takes binary values 0 or 1. Array elements represent if we take a particular action. Array element with index 0 corresponds to the right action, index 1 corresponds to the left action, index 2 corresponds to the up action, and index 3 corresponds to the down action. E.g., \n",
    "   action = [1, 0, 0, 0] would result in the agent moving right.\n",
    "   action = [1, 0, 1, 0] would result in the agent moving right and up.\n",
    "   action = [0, 1, 0, 1] would result in the agent moving left and down.\n",
    "\n",
    "3. **Continuous** - Float in the range [-1, 1] determining whether the agent will go left, right, up, or down as follows:\n",
    "\n",
    "    if -1 <= action <= -0.5:\n",
    "        Go Right.\n",
    "    elif -0.5 < action <= 0:\n",
    "        Go Left.\n",
    "    elif 0 < action <= 0.5:\n",
    "        Go Up.\n",
    "    elif 0.5 < action <= 1:\n",
    "        Go Down.\n",
    "        \n",
    "### YOUR TASK IS TO USE A NEURAL NETWORK TO WORK WITH ALL FOUR TYPES OF OBSERVATIONS AND ALL THREE TYPES OF  ACTIONS.\n",
    "### Note: You don't have to train your agent/neural network. You just have to build the neural network structure that takes the observation as input and produces the desired output with the initial weights.\n",
    "\n",
    "#### You can use libraries such as PyTorch/TensorFlow/Keras to build your neural networks.\n",
    "\n",
    "#### <span style=\"color:red\">You cannot use RL libraries that already provide the neural network to you such as Stable-baselines3, Keras-RL, TF agents, Ray RLLib etc.</span>"
   ]
  },
  {
   "cell_type": "markdown",
   "id": "a6deebbb",
   "metadata": {},
   "source": [
    "<img src=\"./images/wumpus_world_environment.jpg\" width=\"600\" height=\"600\">"
   ]
  },
  {
   "cell_type": "markdown",
   "id": "f2f11e24",
   "metadata": {},
   "source": [
    "# START COMPLETING YOUR ASSIGNMENT HERE"
   ]
  },
  {
   "cell_type": "markdown",
   "id": "729a8768",
   "metadata": {},
   "source": [
    "## Observation Type - Integer, Action Type - Discrete\n",
    "\n",
    "The part of the assignment requires you to create a sequential dense neural network with 1 hidden layer having 64 neurons and the output layer having 4 neurons. The input to the neural network is an integer (refer to environment observations type 1). The output of the neural network is an array represeting the Q-values from which you will choose an action (refer to environment actions type 1)."
   ]
  },
  {
   "cell_type": "markdown",
   "id": "c596cb95",
   "metadata": {},
   "source": [
    "The following figure shows the network structure you will have to use:\n",
    "\n",
    "<img src=\"./images/neural_network_structures/neural_network_1_64_4.png\">"
   ]
  },
  {
   "cell_type": "code",
   "execution_count": 2,
   "id": "7b1f4da4",
   "metadata": {},
   "outputs": [],
   "source": [
    "\"\"\"TO DO: Create a neural network, pass it the observation from the environment\n",
    "and get the predicted Q-values for the four actions. Print the observation and the Q-values.\"\"\"\n",
    "\n",
    "environment = WumpusWorldEnvironment(observation_type='integer', action_type='discrete')\n",
    "observation, info = environment.reset()\n",
    "\n",
    "# BEGIN_YOUR_CODE\n",
    "\n",
    "\n",
    "# END_YOUR_CODE"
   ]
  },
  {
   "cell_type": "markdown",
   "id": "2bb8286a",
   "metadata": {},
   "source": []
  },
  {
   "cell_type": "markdown",
   "id": "b2b233bb",
   "metadata": {},
   "source": [
    "## Observation Type - Vector (2.1), Action Type - Discrete\n",
    "\n",
    "The part of the assignment requires you to create a sequential dense neural network with 1 hidden layer having 64 neurons and the output layer having 4 neurons. The input to the neural network is a vector of length 2 (refer to environment observations type 2.1). The output of the neural network is an array represeting the Q-values from which you will choose an action (refer to environment actions type 1)."
   ]
  },
  {
   "cell_type": "markdown",
   "id": "0e9c4873",
   "metadata": {},
   "source": [
    "The following figure shows the network structure you will have to use:\n",
    "\n",
    "<img src=\"./images/neural_network_structures/neural_network_2_64_4.png\">"
   ]
  },
  {
   "cell_type": "code",
   "execution_count": null,
   "id": "10d985b5",
   "metadata": {},
   "outputs": [],
   "source": [
    "\"\"\"TO DO: Create a neural network, pass it the observation from the environment\n",
    "and get the predicted Q-values for the four actions. Print the observation and the Q-values.\"\"\"\n",
    "\n",
    "environment = WumpusWorldEnvironment(observation_type='vector', action_type='discrete')\n",
    "observation, info = environment.reset()\n",
    "\n",
    "# BEGIN_YOUR_CODE\n",
    "\n",
    "\n",
    "# END_YOUR_CODE"
   ]
  },
  {
   "cell_type": "markdown",
   "id": "a8957b9f",
   "metadata": {},
   "source": [
    "## Observation Type - Vector (2.2), Action Type - Discrete\n",
    "\n",
    "The part of the assignment requires you to create a sequential dense neural network with 1 hidden layer having 64 neurons and the output layer having 4 neurons. The input to the neural network is a vector of length 36 (refer to environment observations type 2.2). The output of the neural network is an array represeting the Q-values from which you will choose an action (refer to environment actions type 1).\n",
    "\n",
    "**HINT:** Use the integer observation and convert it to a one-hot encoded vector."
   ]
  },
  {
   "cell_type": "markdown",
   "id": "470cf5f8",
   "metadata": {},
   "source": [
    "The following figure shows the network structure you will have to use:\n",
    "\n",
    "<img src=\"./images/neural_network_structures/neural_network_36_64_4.png\">"
   ]
  },
  {
   "cell_type": "code",
   "execution_count": null,
   "id": "ae05b09e",
   "metadata": {},
   "outputs": [],
   "source": [
    "\"\"\"TO DO: Create a neural network, pass it the observation from the environment\n",
    "and get the predicted Q-values for the four actions. Print the observation and the Q-values.\"\"\"\n",
    "\n",
    "environment = WumpusWorldEnvironment(observation_type='integer', action_type='discrete')\n",
    "observation, info = environment.reset()\n",
    "\n",
    "# BEGIN_YOUR_CODE\n",
    "\n",
    "\n",
    "# END_YOUR_CODE"
   ]
  },
  {
   "cell_type": "markdown",
   "id": "ce19c97b",
   "metadata": {},
   "source": [
    "## Observation Type - Image, Action Type - Discrete\n",
    "\n",
    "The part of the assignment requires you to create a convolutional neural network with one convolutional layer having 128 filters of size 3 x 3, one hidden layer having 64 neurons, and the output layer having 4 neurons. The input to the neural network is an image of size 84 * 84 (refer to environment observations type 3). The output of the neural network is an array represeting the Q-values from which you will choose an action (refer to environment actions type 1)."
   ]
  },
  {
   "cell_type": "markdown",
   "id": "df3d739c",
   "metadata": {},
   "source": [
    "The following figure shows the network structure you will have to use:\n",
    "\n",
    "<img src=\"./images/neural_network_structures/convolutional_neural_network_84x84_128_64_4.png\">"
   ]
  },
  {
   "cell_type": "code",
   "execution_count": 4,
   "id": "2044da09",
   "metadata": {},
   "outputs": [
    {
     "name": "stdout",
     "output_type": "stream",
     "text": [
      "Observation shape: (84, 84)\n",
      "Observation [[255 255 255 ... 255 255 255]\n",
      " [255 255 255 ... 255 255 255]\n",
      " [255 255 255 ... 255 255 255]\n",
      " ...\n",
      " [255 255 255 ... 255 255 255]\n",
      " [255 255 255 ... 255 255 255]\n",
      " [255 255 255 ... 255 255 255]]\n",
      "Q-values for actions [0=Right, 1=Left, 2=Up, 3=Down]:\n",
      "[-0.05358531  0.07170561 -0.05954809  0.01803815]\n"
     ]
    }
   ],
   "source": [
    "\"\"\"TO DO: Create a neural network, pass it the observation from the environment\n",
    "and get the predicted Q-values for the four actions. Print the observation and the Q-values.\"\"\"\n",
    "\n",
    "environment = WumpusWorldEnvironment(observation_type='image', action_type='discrete')\n",
    "observation, info = environment.reset()\n",
    "\n",
    "# BEGIN_YOUR_CODE\n",
    "class ConvQNet(nn.Module):\n",
    "    def __init__(self, num_actions: int = 4):\n",
    "        super().__init__()\n",
    "        self.conv = nn.Conv2d(in_channels=1, out_channels=128, kernel_size=3, stride=1, padding=1)\n",
    "        self.relu = nn.ReLU()\n",
    "\n",
    "        with torch.no_grad():\n",
    "            dummy = torch.zeros(1, 1, 84, 84)\n",
    "            conv_out = self.relu(self.conv(dummy))  # shape: [1, 128, 84, 84]\n",
    "            self.flat_dim = conv_out.view(1, -1).size(1)  # 128*84*84\n",
    "\n",
    "        self.fc1 = nn.Linear(self.flat_dim, 64)  # hidden layer (64 neurons)\n",
    "        self.out = nn.Linear(64, num_actions)     # output layer (4 neurons → Q-values)\n",
    "\n",
    "    def forward(self, x: torch.Tensor) -> torch.Tensor:\n",
    "        x = self.relu(self.conv(x))          # single conv layer\n",
    "        x = x.view(x.size(0), -1)            # flatten\n",
    "        x = self.relu(self.fc1(x))           # hidden (64)\n",
    "        x = self.out(x)                      # output (4)\n",
    "        return x\n",
    "\n",
    "torch.manual_seed(0)\n",
    "qnet = ConvQNet(num_actions=4).eval()\n",
    "\n",
    "obs_tensor = torch.from_numpy(observation).float().unsqueeze(0).unsqueeze(0) / 255.0\n",
    "\n",
    "with torch.no_grad():\n",
    "    q_values = qnet(obs_tensor).squeeze(0).cpu().numpy()  # shape: (4,)\n",
    "\n",
    "print(\"Observation shape:\", observation.shape)  # (84, 84)\n",
    "print(\"Observation\", observation)\n",
    "print(\"Q-values for actions [0=Right, 1=Left, 2=Up, 3=Down]:\")\n",
    "print(q_values)\n",
    "\n",
    "# END_YOUR_CODE"
   ]
  },
  {
   "cell_type": "markdown",
   "id": "64be04fd",
   "metadata": {},
   "source": [
    "## Observation Type - Float, Action Type - Discrete\n",
    "\n",
    "The part of the assignment requires you to create a sequential dense neural network with 1 hidden layer having 64 neurons and the output layer having 4 neurons. The input to the neural network is a float (refer to environment observations type 4). The output of the neural network is an array representing the Q-values from which you will choose an action (refer to environment actions type 1)."
   ]
  },
  {
   "cell_type": "markdown",
   "id": "b7ed49e0",
   "metadata": {},
   "source": [
    "The following figure shows the network structure you will have to use:\n",
    "\n",
    "<img src=\"./images/neural_network_structures/neural_network_1_64_4.png\">"
   ]
  },
  {
   "cell_type": "code",
   "execution_count": 5,
   "id": "ea0e4aa6",
   "metadata": {},
   "outputs": [
    {
     "name": "stdout",
     "output_type": "stream",
     "text": [
      "Observation (float): 3.314018249511719e-05\n",
      "Q-values for actions [0=Right, 1=Left, 2=Up, 3=Down]:\n",
      "[ 0.12965742 -0.08694483  0.06333356  0.15442228]\n"
     ]
    }
   ],
   "source": [
    "\"\"\"TO DO: Create a neural network, pass it the observation from the environment\n",
    "and get the predicted Q-values for the four actions. Print the observation and the Q-values.\"\"\"\n",
    "\n",
    "environment = WumpusWorldEnvironment(observation_type='float', action_type='discrete')\n",
    "observation, info = environment.reset()\n",
    "\n",
    "# BEGIN_YOUR_CODE\n",
    "class QNet(nn.Module):\n",
    "    def __init__(self, num_actions: int = 4):\n",
    "        super().__init__()\n",
    "        self.model = nn.Sequential(\n",
    "            nn.Linear(1, 64),\n",
    "            nn.ReLU(),\n",
    "            nn.Linear(64, num_actions)\n",
    "        )\n",
    "\n",
    "    def forward(self, x: torch.Tensor) -> torch.Tensor:\n",
    "        if x.dim() == 1:\n",
    "            x = x.unsqueeze(0)\n",
    "        return self.model(x)\n",
    "\n",
    "torch.manual_seed(0)\n",
    "qnet = QNet(num_actions=4).eval()\n",
    "\n",
    "obs_tensor = torch.tensor([[float(observation)]], dtype=torch.float32)\n",
    "\n",
    "with torch.no_grad():\n",
    "    q_values = qnet(obs_tensor).squeeze(0).cpu().numpy()  # shape: (4,)\n",
    "\n",
    "print(f\"Observation (float): {observation}\")\n",
    "print(\"Q-values for actions [0=Right, 1=Left, 2=Up, 3=Down]:\")\n",
    "print(q_values)\n",
    "\n",
    "# END_YOUR_CODE"
   ]
  },
  {
   "cell_type": "markdown",
   "id": "27040465",
   "metadata": {},
   "source": [
    "## Observation Type - Vector (2.2), Action Type - Multi-Discrete\n",
    "\n",
    "The part of the assignment requires you to create a sequential dense neural network with 1 hidden layer having 64 neurons and the output layer having 4 neurons. The input to the neural network is a vector of length 36 (refer to environment observations type 2.2). The output of the neural network is an array representing the probability of choosing the actions. (If the value of the array element is >=0.5 you will perform the action.) (refer to environment actions type 2).\n",
    "\n",
    "**HINT:** Use the integer observation and convert it to a one-hot encoded vector."
   ]
  },
  {
   "cell_type": "markdown",
   "id": "8fe64de9",
   "metadata": {},
   "source": [
    "The following figure shows the network structure you will have to use:\n",
    "\n",
    "<img src=\"./images/neural_network_structures/neural_network_36_64_4_sigmoid.png\">"
   ]
  },
  {
   "cell_type": "code",
   "execution_count": 6,
   "id": "00ea3736",
   "metadata": {},
   "outputs": [
    {
     "name": "stdout",
     "output_type": "stream",
     "text": [
      "Raw integer observation: 0\n",
      "One-hot index (len=36): 0\n",
      "\n",
      "Q-values for actions [0=Right, 1=Left, 2=Up, 3=Down]:\n",
      "  0=Right: -0.129972\n",
      "  1=Left: -0.123212\n",
      "  2=Up: 0.016988\n",
      "  3=Down: -0.060978\n"
     ]
    }
   ],
   "source": [
    "\"\"\"TO DO: Create a neural network, pass it the observation from the environment\n",
    "and get the predicted action probabilities for the four actions. Print the observation and the action probabilities.\"\"\"\n",
    "\n",
    "environment = WumpusWorldEnvironment(observation_type='integer', action_type='multi_discrete')\n",
    "observation, info = environment.reset()\n",
    "\n",
    "# BEGIN_YOUR_CODE\n",
    "def to_one_hot(index: int, length: int = 36) -> np.ndarray:\n",
    "    index = max(0, min(length - 1, index))\n",
    "    one_hot = np.zeros((length,), dtype=np.float32)\n",
    "    one_hot[index] = 1.0\n",
    "    return one_hot\n",
    "\n",
    "x_vec = to_one_hot(observation, length=36)           # shape: (36,)\n",
    "x_tensor = torch.from_numpy(x_vec).unsqueeze(0)\n",
    "\n",
    "class QNet(nn.Module):\n",
    "    def __init__(self, out_dim: int = 4):\n",
    "        super().__init__()\n",
    "        self.net = nn.Sequential(\n",
    "            nn.Linear(36, 64),\n",
    "            nn.ReLU(),\n",
    "            nn.Linear(64, out_dim)  # Q-values\n",
    "        )\n",
    "\n",
    "    def forward(self, x: torch.Tensor) -> torch.Tensor:\n",
    "        return self.net(x)\n",
    "\n",
    "torch.manual_seed(0)\n",
    "qnet = QNet(4).eval()\n",
    "\n",
    "with torch.no_grad():\n",
    "    q_values = qnet(x_tensor).squeeze(0).cpu().numpy()  # shape: (4,)\n",
    "\n",
    "action_names = [\"Right\", \"Left\", \"Up\", \"Down\"]\n",
    "print(f\"Raw integer observation: {observation}\")\n",
    "print(\"One-hot index (len=36):\", int(np.where(x_vec == 1)[0][0]))\n",
    "\n",
    "print(\"\\nQ-values for actions [0=Right, 1=Left, 2=Up, 3=Down]:\")\n",
    "\n",
    "for i, q in enumerate(q_values):\n",
    "    print(f\"  {i}={action_names[i]}: {q:.6f}\")\n",
    "# END_YOUR_CODE"
   ]
  },
  {
   "cell_type": "markdown",
   "id": "082f05b0",
   "metadata": {},
   "source": [
    "## Observation Type - Vector (2.2), Action Type - Continuous\n",
    "\n",
    "The part of the assignment requires you to create a sequential dense neural network with 1 hidden layer having 64 neurons and the output layer having 1 neuron. The input to the neural network is a vector of length 36 (refer to environment observations type 2.2). The output of the neural network is an float in the range [-1, 1] determining the action which will be taken. (refer to environment actions type 3).\n",
    "\n",
    "**HINT:** Use the integer observation and convert it to a one-hot encoded vector and use the TanH activation function to get the output in the range [-1, 1]."
   ]
  },
  {
   "cell_type": "markdown",
   "id": "d8796988",
   "metadata": {},
   "source": [
    "The following figure shows the network structure you will have to use:\n",
    "\n",
    "<img src=\"./images/neural_network_structures/neural_network_36_64_1.png\">"
   ]
  },
  {
   "cell_type": "code",
   "execution_count": 7,
   "id": "b98555f1",
   "metadata": {},
   "outputs": [
    {
     "name": "stdout",
     "output_type": "stream",
     "text": [
      "Raw integer observation: 0\n",
      "One-hot index (len=36): 0\n",
      "Continuous action (range [-1, 1]): -0.119210\n"
     ]
    }
   ],
   "source": [
    "\"\"\"TO DO: Create a neural network, pass it the observation from the environment\n",
    "and get the predicted action. Print the observation and the predicted action.\"\"\"\n",
    "\n",
    "environment = WumpusWorldEnvironment(observation_type='integer', action_type='continuous')\n",
    "observation, info = environment.reset()\n",
    "\n",
    "# BEGIN_YOUR_CODE\n",
    "def to_one_hot(index: int, length: int = 36) -> np.ndarray:\n",
    "    index = max(0, min(length - 1, index))\n",
    "    one_hot = np.zeros((length,), dtype=np.float32)\n",
    "    one_hot[index] = 1.0\n",
    "    return one_hot\n",
    "\n",
    "x_vec = to_one_hot(observation, length=36)           # shape: (36,)\n",
    "x_tensor = torch.from_numpy(x_vec).unsqueeze(0)\n",
    "\n",
    "class QNet(nn.Module):\n",
    "    def __init__(self):\n",
    "        super().__init__()\n",
    "        self.net = nn.Sequential(\n",
    "            nn.Linear(36, 64),\n",
    "            nn.ReLU(),\n",
    "            nn.Linear(64, 1),\n",
    "            nn.Tanh()\n",
    "        )\n",
    "\n",
    "    def forward(self, x: torch.Tensor) -> torch.Tensor:\n",
    "        return self.net(x)\n",
    "\n",
    "torch.manual_seed(0)\n",
    "qnet = QNet().eval()\n",
    "\n",
    "with torch.no_grad():\n",
    "    q_values = qnet(x_tensor).squeeze(0).item()\n",
    "\n",
    "print(f\"Raw integer observation: {observation}\")\n",
    "print(\"One-hot index (len=36):\", int(np.where(x_vec == 1)[0][0]))\n",
    "print(f\"Continuous action (range [-1, 1]): {q_values:.6f}\")\n",
    "\n",
    "# END_YOUR_CODE"
   ]
  },
  {
   "cell_type": "code",
   "execution_count": null,
   "id": "c1fd5cac-3585-4011-852d-38cf71694207",
   "metadata": {},
   "outputs": [],
   "source": []
  }
 ],
 "metadata": {
  "kernelspec": {
   "display_name": "Python 3 (ipykernel)",
   "language": "python",
   "name": "python3"
  },
  "language_info": {
   "codemirror_mode": {
    "name": "ipython",
    "version": 3
   },
   "file_extension": ".py",
   "mimetype": "text/x-python",
   "name": "python",
   "nbconvert_exporter": "python",
   "pygments_lexer": "ipython3",
   "version": "3.13.5"
  }
 },
 "nbformat": 4,
 "nbformat_minor": 5
}
